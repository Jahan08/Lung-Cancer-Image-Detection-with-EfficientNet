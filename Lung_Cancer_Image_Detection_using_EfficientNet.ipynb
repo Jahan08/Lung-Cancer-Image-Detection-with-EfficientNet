{
  "metadata": {
    "kernelspec": {
      "language": "python",
      "display_name": "Python 3",
      "name": "python3"
    },
    "language_info": {
      "pygments_lexer": "ipython3",
      "nbconvert_exporter": "python",
      "version": "3.6.4",
      "file_extension": ".py",
      "codemirror_mode": {
        "name": "ipython",
        "version": 3
      },
      "name": "python",
      "mimetype": "text/x-python"
    },
    "colab": {
      "provenance": [],
      "include_colab_link": true
    }
  },
  "nbformat_minor": 0,
  "nbformat": 4,
  "cells": [
    {
      "cell_type": "markdown",
      "metadata": {
        "id": "view-in-github",
        "colab_type": "text"
      },
      "source": [
        "<a href=\"https://colab.research.google.com/github/Jahan08/Lung-Cancer-Image-Detection-with-EfficientNet/blob/main/Lung_Cancer_Image_Detection_using_EfficientNet.ipynb\" target=\"_parent\"><img src=\"https://colab.research.google.com/assets/colab-badge.svg\" alt=\"Open In Colab\"/></a>"
      ]
    },
    {
      "source": [
        "from google.colab import drive\n",
        "drive.mount('/content/drive')"
      ],
      "metadata": {
        "id": "PxbwpWMZe__x",
        "outputId": "bb6d208a-6bab-4215-b86e-38bb3fb1ca84",
        "colab": {
          "base_uri": "https://localhost:8080/"
        }
      },
      "cell_type": "code",
      "outputs": [
        {
          "output_type": "stream",
          "name": "stdout",
          "text": [
            "Mounted at /content/drive\n"
          ]
        }
      ],
      "execution_count": null
    },
    {
      "cell_type": "markdown",
      "source": [
        "# Import needed modules"
      ],
      "metadata": {
        "id": "CKeVGxZ5GG6o"
      }
    },
    {
      "cell_type": "code",
      "source": [
        "# import system libs\n",
        "import os\n",
        "import time\n",
        "import shutil\n",
        "import pathlib\n",
        "import itertools\n",
        "from PIL import Image\n",
        "\n",
        "# import data handling tools\n",
        "import cv2\n",
        "import numpy as np\n",
        "import pandas as pd\n",
        "import seaborn as sns\n",
        "sns.set_style('darkgrid')\n",
        "import matplotlib.pyplot as plt\n",
        "from sklearn.model_selection import train_test_split\n",
        "from sklearn.metrics import confusion_matrix, classification_report\n",
        "\n",
        "# import Deep learning Libraries\n",
        "import tensorflow as tf\n",
        "from tensorflow import keras\n",
        "from tensorflow.keras.models import Sequential\n",
        "from tensorflow.keras.optimizers import Adam, Adamax\n",
        "from tensorflow.keras.preprocessing.image import ImageDataGenerator\n",
        "from tensorflow.keras.layers import Conv2D, MaxPooling2D, Flatten, Dense, Activation, Dropout, BatchNormalization\n",
        "from tensorflow.keras import regularizers\n",
        "\n",
        "# Ignore Warnings\n",
        "import warnings\n",
        "warnings.filterwarnings(\"ignore\")\n",
        "\n",
        "print ('modules loaded')"
      ],
      "metadata": {
        "id": "CeMcAy_5GG6s",
        "outputId": "04482aba-e424-4c82-e5aa-a4bb1bea49a6",
        "execution": {
          "iopub.status.busy": "2023-06-22T11:55:04.614965Z",
          "iopub.execute_input": "2023-06-22T11:55:04.615285Z",
          "iopub.status.idle": "2023-06-22T11:55:09.06296Z",
          "shell.execute_reply.started": "2023-06-22T11:55:04.615256Z",
          "shell.execute_reply": "2023-06-22T11:55:09.061987Z"
        },
        "trusted": true,
        "colab": {
          "base_uri": "https://localhost:8080/"
        }
      },
      "execution_count": null,
      "outputs": [
        {
          "output_type": "stream",
          "name": "stdout",
          "text": [
            "modules loaded\n"
          ]
        }
      ]
    },
    {
      "cell_type": "markdown",
      "source": [
        "# **Data Preprocessing**"
      ],
      "metadata": {
        "id": "SA_gwvwnGG6v"
      }
    },
    {
      "cell_type": "markdown",
      "source": [
        "### **Read data and store it in dataframe**"
      ],
      "metadata": {
        "id": "e4reLHLHabWD"
      }
    },
    {
      "cell_type": "code",
      "source": [
        "# Generate data paths with labels\n",
        "data_dir = '/content/drive/MyDrive/lung_colon_image_set/lung_image_sets'\n",
        "filepaths = []\n",
        "labels = []\n",
        "\n",
        "folds = os.listdir(data_dir)\n",
        "for fold in folds:\n",
        "    foldpath = os.path.join(data_dir, fold)\n",
        "    filelist = os.listdir(foldpath)\n",
        "    for file in filelist:\n",
        "        fpath = os.path.join(foldpath, file)\n",
        "\n",
        "        filepaths.append(fpath)\n",
        "        labels.append(fold)\n",
        "\n",
        "# Concatenate data paths with labels into one dataframe\n",
        "Fseries = pd.Series(filepaths, name= 'filepaths')\n",
        "Lseries = pd.Series(labels, name='labels')\n",
        "df = pd.concat([Fseries, Lseries], axis= 1)"
      ],
      "metadata": {
        "execution": {
          "iopub.status.busy": "2023-06-22T11:55:09.064364Z",
          "iopub.execute_input": "2023-06-22T11:55:09.066197Z",
          "iopub.status.idle": "2023-06-22T11:55:10.048832Z",
          "shell.execute_reply.started": "2023-06-22T11:55:09.066162Z",
          "shell.execute_reply": "2023-06-22T11:55:10.047897Z"
        },
        "trusted": true,
        "id": "DtrqdJUJe__0"
      },
      "execution_count": null,
      "outputs": []
    },
    {
      "cell_type": "code",
      "source": [
        "df"
      ],
      "metadata": {
        "execution": {
          "iopub.status.busy": "2023-06-22T11:55:10.051493Z",
          "iopub.execute_input": "2023-06-22T11:55:10.051854Z",
          "iopub.status.idle": "2023-06-22T11:55:10.07313Z",
          "shell.execute_reply.started": "2023-06-22T11:55:10.051821Z",
          "shell.execute_reply": "2023-06-22T11:55:10.072252Z"
        },
        "trusted": true,
        "id": "AjjzRNMoe__0"
      },
      "execution_count": null,
      "outputs": []
    },
    {
      "cell_type": "markdown",
      "source": [
        "### **Split dataframe into train, valid, and test**"
      ],
      "metadata": {
        "id": "NTHnZ8Ize__1"
      }
    },
    {
      "cell_type": "code",
      "source": [
        "# train dataframe\n",
        "train_df, dummy_df = train_test_split(df,  train_size= 0.8, shuffle= True, random_state= 123)\n",
        "\n",
        "# valid and test dataframe\n",
        "valid_df, test_df = train_test_split(dummy_df,  train_size= 0.6, shuffle= True, random_state= 123)"
      ],
      "metadata": {
        "execution": {
          "iopub.status.busy": "2023-06-22T11:55:10.074445Z",
          "iopub.execute_input": "2023-06-22T11:55:10.074823Z",
          "iopub.status.idle": "2023-06-22T11:55:10.086592Z",
          "shell.execute_reply.started": "2023-06-22T11:55:10.074789Z",
          "shell.execute_reply": "2023-06-22T11:55:10.085535Z"
        },
        "trusted": true,
        "id": "JWpoGQm6e__1"
      },
      "execution_count": null,
      "outputs": []
    },
    {
      "cell_type": "markdown",
      "source": [
        "### **Create image data generator**"
      ],
      "metadata": {
        "id": "EQXLv9Cle__1"
      }
    },
    {
      "cell_type": "code",
      "source": [
        "# crobed image size\n",
        "batch_size = 16\n",
        "img_size = (224, 224)\n",
        "channels = 3\n",
        "img_shape = (img_size[0], img_size[1], channels)\n",
        "\n",
        "tr_gen = ImageDataGenerator()\n",
        "ts_gen = ImageDataGenerator()\n",
        "\n",
        "train_gen = tr_gen.flow_from_dataframe( train_df, x_col= 'filepaths', y_col= 'labels', target_size= img_size, class_mode= 'categorical',\n",
        "                                    color_mode= 'rgb', shuffle= True, batch_size= batch_size)\n",
        "\n",
        "valid_gen = ts_gen.flow_from_dataframe( valid_df, x_col= 'filepaths', y_col= 'labels', target_size= img_size, class_mode= 'categorical',\n",
        "                                    color_mode= 'rgb', shuffle= True, batch_size= batch_size)\n",
        "\n",
        "test_gen = ts_gen.flow_from_dataframe( test_df, x_col= 'filepaths', y_col= 'labels', target_size= img_size, class_mode= 'categorical',\n",
        "                                    color_mode= 'rgb', shuffle= False, batch_size= batch_size)"
      ],
      "metadata": {
        "execution": {
          "iopub.status.busy": "2023-06-22T11:55:10.090195Z",
          "iopub.execute_input": "2023-06-22T11:55:10.090538Z",
          "iopub.status.idle": "2023-06-22T11:55:34.872913Z",
          "shell.execute_reply.started": "2023-06-22T11:55:10.090512Z",
          "shell.execute_reply": "2023-06-22T11:55:34.871951Z"
        },
        "trusted": true,
        "id": "4t9Z0c8we__1"
      },
      "execution_count": null,
      "outputs": []
    },
    {
      "cell_type": "markdown",
      "source": [
        "### **Show sample from train data**"
      ],
      "metadata": {
        "id": "7jdLVOIle__1"
      }
    },
    {
      "cell_type": "code",
      "source": [
        "g_dict = train_gen.class_indices      # defines dictionary {'class': index}\n",
        "classes = list(g_dict.keys())       # defines list of dictionary's kays (classes), classes names : string\n",
        "images, labels = next(train_gen)      # get a batch size samples from the generator\n",
        "\n",
        "plt.figure(figsize= (20, 20))\n",
        "\n",
        "for i in range(16):\n",
        "    plt.subplot(4, 4, i + 1)\n",
        "    image = images[i] / 255       # scales data to range (0 - 255)\n",
        "    plt.imshow(image)\n",
        "    index = np.argmax(labels[i])  # get image index\n",
        "    class_name = classes[index]   # get class of image\n",
        "    plt.title(class_name, color= 'blue', fontsize= 12)\n",
        "    plt.axis('off')\n",
        "plt.show()"
      ],
      "metadata": {
        "execution": {
          "iopub.status.busy": "2023-06-22T11:55:34.874397Z",
          "iopub.execute_input": "2023-06-22T11:55:34.875371Z",
          "iopub.status.idle": "2023-06-22T11:55:39.561564Z",
          "shell.execute_reply.started": "2023-06-22T11:55:34.875335Z",
          "shell.execute_reply": "2023-06-22T11:55:39.560307Z"
        },
        "trusted": true,
        "id": "Y46ewdTbe__2"
      },
      "execution_count": null,
      "outputs": []
    },
    {
      "cell_type": "markdown",
      "source": [
        "# **Model Structure**"
      ],
      "metadata": {
        "id": "57eDFl3oGG65"
      }
    },
    {
      "cell_type": "markdown",
      "source": [
        "#### **Generic Model Creation**"
      ],
      "metadata": {
        "id": "3wvOKjeRGG65"
      }
    },
    {
      "cell_type": "code",
      "source": [
        "# Create Model Structure\n",
        "img_size = (224, 224)\n",
        "channels = 3\n",
        "img_shape = (img_size[0], img_size[1], channels)\n",
        "class_count = len(list(train_gen.class_indices.keys())) # to define number of classes in dense layer\n",
        "\n",
        "# create pre-trained model (you can built on pretrained model such as :  efficientnet, VGG , Resnet )\n",
        "# we will use efficientnetb3 from EfficientNet family.\n",
        "base_model = tf.keras.applications.efficientnet.EfficientNetB3(include_top= False, weights= \"imagenet\", input_shape= img_shape, pooling= 'max')\n",
        "# base_model.trainable = False\n",
        "\n",
        "model = Sequential([\n",
        "    base_model,\n",
        "    BatchNormalization(axis= -1, momentum= 0.99, epsilon= 0.001),\n",
        "    Dense(256, kernel_regularizer= regularizers.l2(l= 0.016), activity_regularizer= regularizers.l1(0.006),\n",
        "                bias_regularizer= regularizers.l1(0.006), activation= 'relu'),\n",
        "    Dropout(rate= 0.45, seed= 123),\n",
        "    Dense(class_count, activation= 'softmax')\n",
        "])\n",
        "\n",
        "model.compile(Adamax(learning_rate= 0.001), loss= 'categorical_crossentropy', metrics= ['accuracy'])\n",
        "\n",
        "model.summary()"
      ],
      "metadata": {
        "id": "kDT4CV15abWT",
        "execution": {
          "iopub.status.busy": "2023-06-22T11:55:39.563206Z",
          "iopub.execute_input": "2023-06-22T11:55:39.56366Z",
          "iopub.status.idle": "2023-06-22T11:55:45.542743Z",
          "shell.execute_reply.started": "2023-06-22T11:55:39.563617Z",
          "shell.execute_reply": "2023-06-22T11:55:45.541748Z"
        },
        "trusted": true
      },
      "execution_count": null,
      "outputs": []
    },
    {
      "cell_type": "markdown",
      "source": [
        "#### **Train model**"
      ],
      "metadata": {
        "id": "ap89fjdxGG67"
      }
    },
    {
      "cell_type": "code",
      "source": [
        "epochs = 10   # number of all epochs in training\n",
        "\n",
        "history = model.fit(x= train_gen, epochs= epochs, verbose= 1, validation_data= valid_gen,\n",
        "                    validation_steps= None, shuffle= False)"
      ],
      "metadata": {
        "id": "0Uk3BTERGG67",
        "execution": {
          "iopub.status.busy": "2023-06-22T11:55:45.544181Z",
          "iopub.execute_input": "2023-06-22T11:55:45.544611Z",
          "iopub.status.idle": "2023-06-22T12:17:10.072335Z",
          "shell.execute_reply.started": "2023-06-22T11:55:45.544577Z",
          "shell.execute_reply": "2023-06-22T12:17:10.071361Z"
        },
        "trusted": true
      },
      "execution_count": null,
      "outputs": []
    },
    {
      "cell_type": "markdown",
      "source": [
        "#### **Display model performance**"
      ],
      "metadata": {
        "id": "dNKq6ebOGG67"
      }
    },
    {
      "cell_type": "code",
      "source": [
        "# Define needed variables\n",
        "tr_acc = history.history['accuracy']\n",
        "tr_loss = history.history['loss']\n",
        "val_acc = history.history['val_accuracy']\n",
        "val_loss = history.history['val_loss']\n",
        "index_loss = np.argmin(val_loss)\n",
        "val_lowest = val_loss[index_loss]\n",
        "index_acc = np.argmax(val_acc)\n",
        "acc_highest = val_acc[index_acc]\n",
        "Epochs = [i+1 for i in range(len(tr_acc))]\n",
        "loss_label = f'best epoch= {str(index_loss + 1)}'\n",
        "acc_label = f'best epoch= {str(index_acc + 1)}'\n",
        "\n",
        "# Plot training history\n",
        "plt.figure(figsize= (20, 8))\n",
        "plt.style.use('fivethirtyeight')\n",
        "\n",
        "plt.subplot(1, 2, 1)\n",
        "plt.plot(Epochs, tr_loss, 'r', label= 'Training loss')\n",
        "plt.plot(Epochs, val_loss, 'g', label= 'Validation loss')\n",
        "plt.scatter(index_loss + 1, val_lowest, s= 150, c= 'blue', label= loss_label)\n",
        "plt.title('Training and Validation Loss')\n",
        "plt.xlabel('Epochs')\n",
        "plt.ylabel('Loss')\n",
        "plt.legend()\n",
        "\n",
        "plt.subplot(1, 2, 2)\n",
        "plt.plot(Epochs, tr_acc, 'r', label= 'Training Accuracy')\n",
        "plt.plot(Epochs, val_acc, 'g', label= 'Validation Accuracy')\n",
        "plt.scatter(index_acc + 1 , acc_highest, s= 150, c= 'blue', label= acc_label)\n",
        "plt.title('Training and Validation Accuracy')\n",
        "plt.xlabel('Epochs')\n",
        "plt.ylabel('Accuracy')\n",
        "plt.legend()\n",
        "\n",
        "plt.tight_layout\n",
        "plt.show()"
      ],
      "metadata": {
        "id": "L0Bj0Sp_GG68",
        "execution": {
          "iopub.status.busy": "2023-06-22T12:17:10.077579Z",
          "iopub.execute_input": "2023-06-22T12:17:10.077879Z",
          "iopub.status.idle": "2023-06-22T12:17:10.862748Z",
          "shell.execute_reply.started": "2023-06-22T12:17:10.077852Z",
          "shell.execute_reply": "2023-06-22T12:17:10.861832Z"
        },
        "trusted": true
      },
      "execution_count": null,
      "outputs": []
    },
    {
      "cell_type": "markdown",
      "source": [
        "# **Evaluate model**"
      ],
      "metadata": {
        "id": "MySXhfAJGG68"
      }
    },
    {
      "cell_type": "code",
      "source": [
        "ts_length = len(test_df)\n",
        "test_batch_size = max(sorted([ts_length // n for n in range(1, ts_length + 1) if ts_length%n == 0 and ts_length/n <= 80]))\n",
        "test_steps = ts_length // test_batch_size\n",
        "\n",
        "train_score = model.evaluate(train_gen, steps= test_steps, verbose= 1)\n",
        "valid_score = model.evaluate(valid_gen, steps= test_steps, verbose= 1)\n",
        "test_score = model.evaluate(test_gen, steps= test_steps, verbose= 1)\n",
        "\n",
        "print(\"Train Loss: \", train_score[0])\n",
        "print(\"Train Accuracy: \", train_score[1])\n",
        "print('-' * 20)\n",
        "print(\"Validation Loss: \", valid_score[0])\n",
        "print(\"Validation Accuracy: \", valid_score[1])\n",
        "print('-' * 20)\n",
        "print(\"Test Loss: \", test_score[0])\n",
        "print(\"Test Accuracy: \", test_score[1])"
      ],
      "metadata": {
        "id": "wSKDkyXXGG68",
        "execution": {
          "iopub.status.busy": "2023-06-22T12:17:10.864171Z",
          "iopub.execute_input": "2023-06-22T12:17:10.864766Z",
          "iopub.status.idle": "2023-06-22T12:17:15.549255Z",
          "shell.execute_reply.started": "2023-06-22T12:17:10.864732Z",
          "shell.execute_reply": "2023-06-22T12:17:15.548181Z"
        },
        "trusted": true
      },
      "execution_count": null,
      "outputs": []
    },
    {
      "cell_type": "markdown",
      "source": [
        "# **Get Predictions**"
      ],
      "metadata": {
        "id": "4l-DABtFGG68"
      }
    },
    {
      "cell_type": "code",
      "source": [
        "preds = model.predict_generator(test_gen)\n",
        "y_pred = np.argmax(preds, axis=1)"
      ],
      "metadata": {
        "id": "GDFj7MZdGG69",
        "execution": {
          "iopub.status.busy": "2023-06-22T12:17:15.550732Z",
          "iopub.execute_input": "2023-06-22T12:17:15.551203Z",
          "iopub.status.idle": "2023-06-22T12:17:25.469769Z",
          "shell.execute_reply.started": "2023-06-22T12:17:15.551168Z",
          "shell.execute_reply": "2023-06-22T12:17:25.468692Z"
        },
        "trusted": true
      },
      "execution_count": null,
      "outputs": []
    },
    {
      "cell_type": "markdown",
      "source": [
        "#### **Confusion Matrics and Classification Report**"
      ],
      "metadata": {
        "id": "aJscUTF6GG69"
      }
    },
    {
      "cell_type": "code",
      "source": [
        "g_dict = test_gen.class_indices\n",
        "classes = list(g_dict.keys())\n",
        "\n",
        "# Confusion matrix\n",
        "cm = confusion_matrix(test_gen.classes, y_pred)\n",
        "\n",
        "plt.figure(figsize= (10, 10))\n",
        "plt.imshow(cm, interpolation= 'nearest', cmap= plt.cm.Blues)\n",
        "plt.title('Confusion Matrix')\n",
        "plt.colorbar()\n",
        "\n",
        "tick_marks = np.arange(len(classes))\n",
        "plt.xticks(tick_marks, classes, rotation= 45)\n",
        "plt.yticks(tick_marks, classes)\n",
        "\n",
        "\n",
        "thresh = cm.max() / 2.\n",
        "for i, j in itertools.product(range(cm.shape[0]), range(cm.shape[1])):\n",
        "    plt.text(j, i, cm[i, j], horizontalalignment= 'center', color= 'white' if cm[i, j] > thresh else 'black')\n",
        "\n",
        "plt.tight_layout()\n",
        "plt.ylabel('True Label')\n",
        "plt.xlabel('Predicted Label')\n",
        "\n",
        "plt.show()"
      ],
      "metadata": {
        "execution": {
          "iopub.status.busy": "2023-06-22T12:17:25.471341Z",
          "iopub.execute_input": "2023-06-22T12:17:25.471702Z",
          "iopub.status.idle": "2023-06-22T12:17:25.908206Z",
          "shell.execute_reply.started": "2023-06-22T12:17:25.471667Z",
          "shell.execute_reply": "2023-06-22T12:17:25.907188Z"
        },
        "trusted": true,
        "id": "fcP3PTxWe__3"
      },
      "execution_count": null,
      "outputs": []
    },
    {
      "cell_type": "code",
      "source": [
        "# Classification report\n",
        "print(classification_report(test_gen.classes, y_pred, target_names= classes))"
      ],
      "metadata": {
        "id": "tQR-UlD6GG69",
        "execution": {
          "iopub.status.busy": "2023-06-22T12:17:25.909734Z",
          "iopub.execute_input": "2023-06-22T12:17:25.910097Z",
          "iopub.status.idle": "2023-06-22T12:17:25.926597Z",
          "shell.execute_reply.started": "2023-06-22T12:17:25.910063Z",
          "shell.execute_reply": "2023-06-22T12:17:25.925282Z"
        },
        "trusted": true
      },
      "execution_count": null,
      "outputs": []
    },
    {
      "cell_type": "markdown",
      "source": [
        "#### **Save model**"
      ],
      "metadata": {
        "id": "SsIK5v0lGG69"
      }
    },
    {
      "cell_type": "code",
      "source": [
        "#Save the model\n",
        "model.save('Lung Cancer.h5')"
      ],
      "metadata": {
        "id": "UiHQzq8XGG6-",
        "execution": {
          "iopub.status.busy": "2023-06-22T12:17:25.928133Z",
          "iopub.execute_input": "2023-06-22T12:17:25.928493Z",
          "iopub.status.idle": "2023-06-22T12:17:27.07438Z",
          "shell.execute_reply.started": "2023-06-22T12:17:25.928457Z",
          "shell.execute_reply": "2023-06-22T12:17:27.07339Z"
        },
        "trusted": true
      },
      "execution_count": null,
      "outputs": []
    },
    {
      "cell_type": "markdown",
      "source": [
        "## **Prediction using loaded_model**"
      ],
      "metadata": {
        "id": "goFX4Gk6e__4"
      }
    },
    {
      "cell_type": "code",
      "source": [
        "loaded_model = tf.keras.models.load_model('/content/drive/MyDrive/lung_colon_image_set/lung_image_sets/Lung Cancer.h5', compile=False)\n",
        "loaded_model.compile(Adamax(learning_rate= 0.001), loss= 'categorical_crossentropy', metrics= ['accuracy'])"
      ],
      "metadata": {
        "execution": {
          "iopub.status.busy": "2023-06-22T12:17:27.076422Z",
          "iopub.execute_input": "2023-06-22T12:17:27.07677Z",
          "iopub.status.idle": "2023-06-22T12:17:31.090836Z",
          "shell.execute_reply.started": "2023-06-22T12:17:27.076738Z",
          "shell.execute_reply": "2023-06-22T12:17:31.089852Z"
        },
        "trusted": true,
        "id": "Y9nTlykse__4"
      },
      "execution_count": null,
      "outputs": []
    },
    {
      "cell_type": "code",
      "source": [
        "image_path = '/content/drive/MyDrive/lung_colon_image_set/lung_image_sets/lung_aca/lungaca1.jpeg'\n",
        "image = Image.open(image_path)\n",
        "# Preprocess the image\n",
        "img = image.resize((224, 224))\n",
        "img_array = tf.keras.preprocessing.image.img_to_array(img)\n",
        "img_array = tf.expand_dims(img_array, 0)\n",
        "# Make predictions\n",
        "predictions = loaded_model.predict(img_array)\n",
        "class_labels = ['Lung_ACA', 'Lung_N']\n",
        "score = tf.nn.softmax(predictions[0])\n",
        "print(f\"{class_labels[tf.argmax(score)]}\")"
      ],
      "metadata": {
        "execution": {
          "iopub.status.busy": "2023-06-22T12:17:31.092314Z",
          "iopub.execute_input": "2023-06-22T12:17:31.09265Z",
          "iopub.status.idle": "2023-06-22T12:17:33.444094Z",
          "shell.execute_reply.started": "2023-06-22T12:17:31.092617Z",
          "shell.execute_reply": "2023-06-22T12:17:33.442909Z"
        },
        "trusted": true,
        "id": "9ytW_297e__4"
      },
      "execution_count": null,
      "outputs": []
    },
    {
      "cell_type": "markdown",
      "source": [
        "## Convert to tflite"
      ],
      "metadata": {
        "id": "3vZ9NWkwe__4"
      }
    },
    {
      "cell_type": "code",
      "source": [
        "converter = tf.lite.TFLiteConverter.from_keras_model(model)\n",
        "tflite_model = converter.convert()\n",
        "\n",
        "print(\"model converted\")\n",
        "\n",
        "# Save the model.\n",
        "with open('Lung.tflite', 'wb') as f:\n",
        "    f.write(tflite_model)"
      ],
      "metadata": {
        "execution": {
          "iopub.status.busy": "2023-06-22T12:17:33.446309Z",
          "iopub.execute_input": "2023-06-22T12:17:33.446684Z",
          "iopub.status.idle": "2023-06-22T12:19:41.897476Z",
          "shell.execute_reply.started": "2023-06-22T12:17:33.44665Z",
          "shell.execute_reply": "2023-06-22T12:19:41.896306Z"
        },
        "trusted": true,
        "id": "P2N39A-Xe__4"
      },
      "execution_count": null,
      "outputs": []
    }
  ]
}